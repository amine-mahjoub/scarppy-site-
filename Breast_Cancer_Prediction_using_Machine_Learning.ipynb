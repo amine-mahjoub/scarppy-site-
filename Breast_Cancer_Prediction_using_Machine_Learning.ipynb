{
  "metadata": {
    "kernelspec": {
      "name": "python3",
      "display_name": "Python 3",
      "language": "python"
    },
    "language_info": {
      "name": "python",
      "version": "3.10.14",
      "mimetype": "text/x-python",
      "codemirror_mode": {
        "name": "ipython",
        "version": 3
      },
      "pygments_lexer": "ipython3",
      "nbconvert_exporter": "python",
      "file_extension": ".py"
    },
    "coursera": {
      "graded_item_id": "f9SY5",
      "part_id": "mh1Vo",
      "launcher_item_id": "oxndk",
      "course_slug": "python-machine-learning"
    },
    "kaggle": {
      "accelerator": "none",
      "dataSources": [
        {
          "sourceId": 408,
          "sourceType": "datasetVersion",
          "datasetId": 180
        }
      ],
      "dockerImageVersionId": 30804,
      "isInternetEnabled": false,
      "language": "python",
      "sourceType": "notebook",
      "isGpuEnabled": false
    },
    "colab": {
      "provenance": [],
      "include_colab_link": true
    }
  },
  "nbformat_minor": 0,
  "nbformat": 4,
  "cells": [
    {
      "cell_type": "markdown",
      "metadata": {
        "id": "view-in-github",
        "colab_type": "text"
      },
      "source": [
        "<a href=\"https://colab.research.google.com/github/amine-mahjoub/scarppy-site-/blob/main/Breast_Cancer_Prediction_using_Machine_Learning.ipynb\" target=\"_parent\"><img src=\"https://colab.research.google.com/assets/colab-badge.svg\" alt=\"Open In Colab\"/></a>"
      ]
    },
    {
      "cell_type": "code",
      "source": [
        "from google.colab import drive\n",
        "drive.mount('/content/drive')"
      ],
      "metadata": {
        "id": "QqyfjO_FNjxy",
        "outputId": "5f331aef-af98-416d-fcbd-419aa99b0c1a",
        "colab": {
          "base_uri": "https://localhost:8080/"
        }
      },
      "execution_count": null,
      "outputs": [
        {
          "output_type": "stream",
          "name": "stdout",
          "text": [
            "Drive already mounted at /content/drive; to attempt to forcibly remount, call drive.mount(\"/content/drive\", force_remount=True).\n"
          ]
        }
      ]
    },
    {
      "cell_type": "markdown",
      "source": [],
      "metadata": {
        "id": "8Q4Qi7HoEJK7"
      }
    },
    {
      "cell_type": "markdown",
      "source": [
        "## Prediction of Breast Cancer using SVM"
      ],
      "metadata": {
        "_uuid": "944c75ecf0178c6158c015537796631f4be3ba67",
        "_cell_guid": "7dc2f0f0-7f2e-441b-ad5e-dc6c6e7e19b5",
        "id": "lvUXlGXuGuZq"
      }
    },
    {
      "cell_type": "markdown",
      "source": [
        "Using the Breast Cancer Wisconsin (Diagnostic) Database, we can create a classifier that can help diagnose patients and predict the likelihood of a breast cancer. A few machine learning techniques will be explored. In this exercise, Support Vector Machine is being implemented."
      ],
      "metadata": {
        "_uuid": "3ffdd62aeaec4f87cefa896ee8f46fba8ac12876",
        "_cell_guid": "e06041ba-c4de-404d-b427-67773487cebb",
        "id": "fRwe1xHBGuZq"
      }
    },
    {
      "cell_type": "code",
      "source": [
        "import numpy as np\n",
        "import pandas as pd\n",
        "import matplotlib.pyplot as plt\n",
        "from sklearn.metrics import classification_report\n",
        "from sklearn.metrics import confusion_matrix\n",
        "from sklearn.metrics import accuracy_score\n",
        "from sklearn.model_selection import train_test_split\n",
        "from sklearn.model_selection import cross_val_score\n",
        "from sklearn.model_selection import KFold\n",
        "from sklearn.tree import DecisionTreeClassifier\n",
        "from sklearn.neighbors import KNeighborsClassifier\n",
        "from sklearn.naive_bayes import GaussianNB\n",
        "from sklearn.pipeline import Pipeline\n",
        "from sklearn.preprocessing import StandardScaler\n",
        "from sklearn.model_selection import GridSearchCV\n",
        "from sklearn.svm import SVC\n",
        "import time"
      ],
      "metadata": {
        "_uuid": "44a9940e9fc2880db72ff036201617f1e2dcc2ac",
        "_execution_state": "idle",
        "_cell_guid": "5c7e9232-776b-4250-bc66-846d0211a8d6",
        "trusted": true,
        "execution": {
          "iopub.status.busy": "2024-12-15T20:53:32.731391Z",
          "iopub.execute_input": "2024-12-15T20:53:32.731917Z",
          "iopub.status.idle": "2024-12-15T20:53:32.740758Z",
          "shell.execute_reply.started": "2024-12-15T20:53:32.731868Z",
          "shell.execute_reply": "2024-12-15T20:53:32.739104Z"
        },
        "id": "tJsfbl-IGuZr"
      },
      "outputs": [],
      "execution_count": null
    },
    {
      "cell_type": "markdown",
      "source": [
        "## Exploratory analysis\n",
        "\n",
        "Load the dataset and do some quick exploratory analysis."
      ],
      "metadata": {
        "_uuid": "9de448d38725cef68acd836b44c1f6cae2a280a4",
        "_cell_guid": "10a5454a-2edb-4b71-95ce-cf3eb42ad08d",
        "id": "vmNtPD1DGuZr"
      }
    },
    {
      "cell_type": "code",
      "source": [
        "import pandas as pd\n",
        "\n",
        "file_path = '/content/drive/MyDrive/data.csv'\n",
        "\n",
        "data = pd.read_csv(file_path)\n",
        "\n",
        "print(data.head(5))\n"
      ],
      "metadata": {
        "id": "mXIGkjC5NzV6",
        "outputId": "ea9a4d22-bb0f-49be-e34b-a875c9822484",
        "colab": {
          "base_uri": "https://localhost:8080/"
        }
      },
      "execution_count": null,
      "outputs": [
        {
          "output_type": "stream",
          "name": "stdout",
          "text": [
            "         id diagnosis  radius_mean  texture_mean  perimeter_mean  area_mean  \\\n",
            "0    842302         M        17.99         10.38          122.80     1001.0   \n",
            "1    842517         M        20.57         17.77          132.90     1326.0   \n",
            "2  84300903         M        19.69         21.25          130.00     1203.0   \n",
            "3  84348301         M        11.42         20.38           77.58      386.1   \n",
            "4  84358402         M        20.29         14.34          135.10     1297.0   \n",
            "\n",
            "   smoothness_mean  compactness_mean  concavity_mean  concave points_mean  \\\n",
            "0          0.11840           0.27760          0.3001              0.14710   \n",
            "1          0.08474           0.07864          0.0869              0.07017   \n",
            "2          0.10960           0.15990          0.1974              0.12790   \n",
            "3          0.14250           0.28390          0.2414              0.10520   \n",
            "4          0.10030           0.13280          0.1980              0.10430   \n",
            "\n",
            "   ...  texture_worst  perimeter_worst  area_worst  smoothness_worst  \\\n",
            "0  ...          17.33           184.60      2019.0            0.1622   \n",
            "1  ...          23.41           158.80      1956.0            0.1238   \n",
            "2  ...          25.53           152.50      1709.0            0.1444   \n",
            "3  ...          26.50            98.87       567.7            0.2098   \n",
            "4  ...          16.67           152.20      1575.0            0.1374   \n",
            "\n",
            "   compactness_worst  concavity_worst  concave points_worst  symmetry_worst  \\\n",
            "0             0.6656           0.7119                0.2654          0.4601   \n",
            "1             0.1866           0.2416                0.1860          0.2750   \n",
            "2             0.4245           0.4504                0.2430          0.3613   \n",
            "3             0.8663           0.6869                0.2575          0.6638   \n",
            "4             0.2050           0.4000                0.1625          0.2364   \n",
            "\n",
            "   fractal_dimension_worst  Unnamed: 32  \n",
            "0                  0.11890          NaN  \n",
            "1                  0.08902          NaN  \n",
            "2                  0.08758          NaN  \n",
            "3                  0.17300          NaN  \n",
            "4                  0.07678          NaN  \n",
            "\n",
            "[5 rows x 33 columns]\n"
          ]
        }
      ]
    },
    {
      "cell_type": "code",
      "source": [
        "print(data.shape)"
      ],
      "metadata": {
        "_uuid": "769147a9ae9ba27e572d07c2e75aa9b13287ee9b",
        "_cell_guid": "0f5a9ef3-2b7e-40f3-94c9-d610c0f88dc5",
        "trusted": true,
        "execution": {
          "iopub.status.busy": "2024-12-15T20:53:32.805657Z",
          "iopub.execute_input": "2024-12-15T20:53:32.80617Z",
          "iopub.status.idle": "2024-12-15T20:53:32.813202Z",
          "shell.execute_reply.started": "2024-12-15T20:53:32.806125Z",
          "shell.execute_reply": "2024-12-15T20:53:32.811944Z"
        },
        "id": "vLyR8s6XGuZs",
        "outputId": "0c58a30e-f4ea-41cc-99c6-251f122c5ada",
        "colab": {
          "base_uri": "https://localhost:8080/"
        }
      },
      "outputs": [
        {
          "output_type": "stream",
          "name": "stdout",
          "text": [
            "(569, 33)\n"
          ]
        }
      ],
      "execution_count": null
    },
    {
      "cell_type": "code",
      "source": [
        "data.describe()"
      ],
      "metadata": {
        "_uuid": "54c91f25e50f6b069ed7217c34df68cd52cd5970",
        "_cell_guid": "dfdb2cf8-9fe1-4efb-a779-9cb062a04c71",
        "trusted": true,
        "execution": {
          "iopub.status.busy": "2024-12-15T20:53:32.814763Z",
          "iopub.execute_input": "2024-12-15T20:53:32.815116Z",
          "iopub.status.idle": "2024-12-15T20:53:32.901986Z",
          "shell.execute_reply.started": "2024-12-15T20:53:32.81508Z",
          "shell.execute_reply": "2024-12-15T20:53:32.900908Z"
        },
        "id": "4rw3ibVGGuZs",
        "outputId": "139346f0-5f37-4483-ede5-a18b4fc3b9e2",
        "colab": {
          "base_uri": "https://localhost:8080/",
          "height": 367
        }
      },
      "outputs": [
        {
          "output_type": "execute_result",
          "data": {
            "text/plain": [
              "                 id  radius_mean  texture_mean  perimeter_mean    area_mean  \\\n",
              "count  5.690000e+02   569.000000    569.000000      569.000000   569.000000   \n",
              "mean   3.037183e+07    14.127292     19.289649       91.969033   654.889104   \n",
              "std    1.250206e+08     3.524049      4.301036       24.298981   351.914129   \n",
              "min    8.670000e+03     6.981000      9.710000       43.790000   143.500000   \n",
              "25%    8.692180e+05    11.700000     16.170000       75.170000   420.300000   \n",
              "50%    9.060240e+05    13.370000     18.840000       86.240000   551.100000   \n",
              "75%    8.813129e+06    15.780000     21.800000      104.100000   782.700000   \n",
              "max    9.113205e+08    28.110000     39.280000      188.500000  2501.000000   \n",
              "\n",
              "       smoothness_mean  compactness_mean  concavity_mean  concave points_mean  \\\n",
              "count       569.000000        569.000000      569.000000           569.000000   \n",
              "mean          0.096360          0.104341        0.088799             0.048919   \n",
              "std           0.014064          0.052813        0.079720             0.038803   \n",
              "min           0.052630          0.019380        0.000000             0.000000   \n",
              "25%           0.086370          0.064920        0.029560             0.020310   \n",
              "50%           0.095870          0.092630        0.061540             0.033500   \n",
              "75%           0.105300          0.130400        0.130700             0.074000   \n",
              "max           0.163400          0.345400        0.426800             0.201200   \n",
              "\n",
              "       symmetry_mean  ...  texture_worst  perimeter_worst   area_worst  \\\n",
              "count     569.000000  ...     569.000000       569.000000   569.000000   \n",
              "mean        0.181162  ...      25.677223       107.261213   880.583128   \n",
              "std         0.027414  ...       6.146258        33.602542   569.356993   \n",
              "min         0.106000  ...      12.020000        50.410000   185.200000   \n",
              "25%         0.161900  ...      21.080000        84.110000   515.300000   \n",
              "50%         0.179200  ...      25.410000        97.660000   686.500000   \n",
              "75%         0.195700  ...      29.720000       125.400000  1084.000000   \n",
              "max         0.304000  ...      49.540000       251.200000  4254.000000   \n",
              "\n",
              "       smoothness_worst  compactness_worst  concavity_worst  \\\n",
              "count        569.000000         569.000000       569.000000   \n",
              "mean           0.132369           0.254265         0.272188   \n",
              "std            0.022832           0.157336         0.208624   \n",
              "min            0.071170           0.027290         0.000000   \n",
              "25%            0.116600           0.147200         0.114500   \n",
              "50%            0.131300           0.211900         0.226700   \n",
              "75%            0.146000           0.339100         0.382900   \n",
              "max            0.222600           1.058000         1.252000   \n",
              "\n",
              "       concave points_worst  symmetry_worst  fractal_dimension_worst  \\\n",
              "count            569.000000      569.000000               569.000000   \n",
              "mean               0.114606        0.290076                 0.083946   \n",
              "std                0.065732        0.061867                 0.018061   \n",
              "min                0.000000        0.156500                 0.055040   \n",
              "25%                0.064930        0.250400                 0.071460   \n",
              "50%                0.099930        0.282200                 0.080040   \n",
              "75%                0.161400        0.317900                 0.092080   \n",
              "max                0.291000        0.663800                 0.207500   \n",
              "\n",
              "       Unnamed: 32  \n",
              "count          0.0  \n",
              "mean           NaN  \n",
              "std            NaN  \n",
              "min            NaN  \n",
              "25%            NaN  \n",
              "50%            NaN  \n",
              "75%            NaN  \n",
              "max            NaN  \n",
              "\n",
              "[8 rows x 32 columns]"
            ],
            "text/html": [
              "\n",
              "  <div id=\"df-7b05decd-a771-4e4d-b0d7-198a86fec1c6\" class=\"colab-df-container\">\n",
              "    <div>\n",
              "<style scoped>\n",
              "    .dataframe tbody tr th:only-of-type {\n",
              "        vertical-align: middle;\n",
              "    }\n",
              "\n",
              "    .dataframe tbody tr th {\n",
              "        vertical-align: top;\n",
              "    }\n",
              "\n",
              "    .dataframe thead th {\n",
              "        text-align: right;\n",
              "    }\n",
              "</style>\n",
              "<table border=\"1\" class=\"dataframe\">\n",
              "  <thead>\n",
              "    <tr style=\"text-align: right;\">\n",
              "      <th></th>\n",
              "      <th>id</th>\n",
              "      <th>radius_mean</th>\n",
              "      <th>texture_mean</th>\n",
              "      <th>perimeter_mean</th>\n",
              "      <th>area_mean</th>\n",
              "      <th>smoothness_mean</th>\n",
              "      <th>compactness_mean</th>\n",
              "      <th>concavity_mean</th>\n",
              "      <th>concave points_mean</th>\n",
              "      <th>symmetry_mean</th>\n",
              "      <th>...</th>\n",
              "      <th>texture_worst</th>\n",
              "      <th>perimeter_worst</th>\n",
              "      <th>area_worst</th>\n",
              "      <th>smoothness_worst</th>\n",
              "      <th>compactness_worst</th>\n",
              "      <th>concavity_worst</th>\n",
              "      <th>concave points_worst</th>\n",
              "      <th>symmetry_worst</th>\n",
              "      <th>fractal_dimension_worst</th>\n",
              "      <th>Unnamed: 32</th>\n",
              "    </tr>\n",
              "  </thead>\n",
              "  <tbody>\n",
              "    <tr>\n",
              "      <th>count</th>\n",
              "      <td>5.690000e+02</td>\n",
              "      <td>569.000000</td>\n",
              "      <td>569.000000</td>\n",
              "      <td>569.000000</td>\n",
              "      <td>569.000000</td>\n",
              "      <td>569.000000</td>\n",
              "      <td>569.000000</td>\n",
              "      <td>569.000000</td>\n",
              "      <td>569.000000</td>\n",
              "      <td>569.000000</td>\n",
              "      <td>...</td>\n",
              "      <td>569.000000</td>\n",
              "      <td>569.000000</td>\n",
              "      <td>569.000000</td>\n",
              "      <td>569.000000</td>\n",
              "      <td>569.000000</td>\n",
              "      <td>569.000000</td>\n",
              "      <td>569.000000</td>\n",
              "      <td>569.000000</td>\n",
              "      <td>569.000000</td>\n",
              "      <td>0.0</td>\n",
              "    </tr>\n",
              "    <tr>\n",
              "      <th>mean</th>\n",
              "      <td>3.037183e+07</td>\n",
              "      <td>14.127292</td>\n",
              "      <td>19.289649</td>\n",
              "      <td>91.969033</td>\n",
              "      <td>654.889104</td>\n",
              "      <td>0.096360</td>\n",
              "      <td>0.104341</td>\n",
              "      <td>0.088799</td>\n",
              "      <td>0.048919</td>\n",
              "      <td>0.181162</td>\n",
              "      <td>...</td>\n",
              "      <td>25.677223</td>\n",
              "      <td>107.261213</td>\n",
              "      <td>880.583128</td>\n",
              "      <td>0.132369</td>\n",
              "      <td>0.254265</td>\n",
              "      <td>0.272188</td>\n",
              "      <td>0.114606</td>\n",
              "      <td>0.290076</td>\n",
              "      <td>0.083946</td>\n",
              "      <td>NaN</td>\n",
              "    </tr>\n",
              "    <tr>\n",
              "      <th>std</th>\n",
              "      <td>1.250206e+08</td>\n",
              "      <td>3.524049</td>\n",
              "      <td>4.301036</td>\n",
              "      <td>24.298981</td>\n",
              "      <td>351.914129</td>\n",
              "      <td>0.014064</td>\n",
              "      <td>0.052813</td>\n",
              "      <td>0.079720</td>\n",
              "      <td>0.038803</td>\n",
              "      <td>0.027414</td>\n",
              "      <td>...</td>\n",
              "      <td>6.146258</td>\n",
              "      <td>33.602542</td>\n",
              "      <td>569.356993</td>\n",
              "      <td>0.022832</td>\n",
              "      <td>0.157336</td>\n",
              "      <td>0.208624</td>\n",
              "      <td>0.065732</td>\n",
              "      <td>0.061867</td>\n",
              "      <td>0.018061</td>\n",
              "      <td>NaN</td>\n",
              "    </tr>\n",
              "    <tr>\n",
              "      <th>min</th>\n",
              "      <td>8.670000e+03</td>\n",
              "      <td>6.981000</td>\n",
              "      <td>9.710000</td>\n",
              "      <td>43.790000</td>\n",
              "      <td>143.500000</td>\n",
              "      <td>0.052630</td>\n",
              "      <td>0.019380</td>\n",
              "      <td>0.000000</td>\n",
              "      <td>0.000000</td>\n",
              "      <td>0.106000</td>\n",
              "      <td>...</td>\n",
              "      <td>12.020000</td>\n",
              "      <td>50.410000</td>\n",
              "      <td>185.200000</td>\n",
              "      <td>0.071170</td>\n",
              "      <td>0.027290</td>\n",
              "      <td>0.000000</td>\n",
              "      <td>0.000000</td>\n",
              "      <td>0.156500</td>\n",
              "      <td>0.055040</td>\n",
              "      <td>NaN</td>\n",
              "    </tr>\n",
              "    <tr>\n",
              "      <th>25%</th>\n",
              "      <td>8.692180e+05</td>\n",
              "      <td>11.700000</td>\n",
              "      <td>16.170000</td>\n",
              "      <td>75.170000</td>\n",
              "      <td>420.300000</td>\n",
              "      <td>0.086370</td>\n",
              "      <td>0.064920</td>\n",
              "      <td>0.029560</td>\n",
              "      <td>0.020310</td>\n",
              "      <td>0.161900</td>\n",
              "      <td>...</td>\n",
              "      <td>21.080000</td>\n",
              "      <td>84.110000</td>\n",
              "      <td>515.300000</td>\n",
              "      <td>0.116600</td>\n",
              "      <td>0.147200</td>\n",
              "      <td>0.114500</td>\n",
              "      <td>0.064930</td>\n",
              "      <td>0.250400</td>\n",
              "      <td>0.071460</td>\n",
              "      <td>NaN</td>\n",
              "    </tr>\n",
              "    <tr>\n",
              "      <th>50%</th>\n",
              "      <td>9.060240e+05</td>\n",
              "      <td>13.370000</td>\n",
              "      <td>18.840000</td>\n",
              "      <td>86.240000</td>\n",
              "      <td>551.100000</td>\n",
              "      <td>0.095870</td>\n",
              "      <td>0.092630</td>\n",
              "      <td>0.061540</td>\n",
              "      <td>0.033500</td>\n",
              "      <td>0.179200</td>\n",
              "      <td>...</td>\n",
              "      <td>25.410000</td>\n",
              "      <td>97.660000</td>\n",
              "      <td>686.500000</td>\n",
              "      <td>0.131300</td>\n",
              "      <td>0.211900</td>\n",
              "      <td>0.226700</td>\n",
              "      <td>0.099930</td>\n",
              "      <td>0.282200</td>\n",
              "      <td>0.080040</td>\n",
              "      <td>NaN</td>\n",
              "    </tr>\n",
              "    <tr>\n",
              "      <th>75%</th>\n",
              "      <td>8.813129e+06</td>\n",
              "      <td>15.780000</td>\n",
              "      <td>21.800000</td>\n",
              "      <td>104.100000</td>\n",
              "      <td>782.700000</td>\n",
              "      <td>0.105300</td>\n",
              "      <td>0.130400</td>\n",
              "      <td>0.130700</td>\n",
              "      <td>0.074000</td>\n",
              "      <td>0.195700</td>\n",
              "      <td>...</td>\n",
              "      <td>29.720000</td>\n",
              "      <td>125.400000</td>\n",
              "      <td>1084.000000</td>\n",
              "      <td>0.146000</td>\n",
              "      <td>0.339100</td>\n",
              "      <td>0.382900</td>\n",
              "      <td>0.161400</td>\n",
              "      <td>0.317900</td>\n",
              "      <td>0.092080</td>\n",
              "      <td>NaN</td>\n",
              "    </tr>\n",
              "    <tr>\n",
              "      <th>max</th>\n",
              "      <td>9.113205e+08</td>\n",
              "      <td>28.110000</td>\n",
              "      <td>39.280000</td>\n",
              "      <td>188.500000</td>\n",
              "      <td>2501.000000</td>\n",
              "      <td>0.163400</td>\n",
              "      <td>0.345400</td>\n",
              "      <td>0.426800</td>\n",
              "      <td>0.201200</td>\n",
              "      <td>0.304000</td>\n",
              "      <td>...</td>\n",
              "      <td>49.540000</td>\n",
              "      <td>251.200000</td>\n",
              "      <td>4254.000000</td>\n",
              "      <td>0.222600</td>\n",
              "      <td>1.058000</td>\n",
              "      <td>1.252000</td>\n",
              "      <td>0.291000</td>\n",
              "      <td>0.663800</td>\n",
              "      <td>0.207500</td>\n",
              "      <td>NaN</td>\n",
              "    </tr>\n",
              "  </tbody>\n",
              "</table>\n",
              "<p>8 rows × 32 columns</p>\n",
              "</div>\n",
              "    <div class=\"colab-df-buttons\">\n",
              "\n",
              "  <div class=\"colab-df-container\">\n",
              "    <button class=\"colab-df-convert\" onclick=\"convertToInteractive('df-7b05decd-a771-4e4d-b0d7-198a86fec1c6')\"\n",
              "            title=\"Convert this dataframe to an interactive table.\"\n",
              "            style=\"display:none;\">\n",
              "\n",
              "  <svg xmlns=\"http://www.w3.org/2000/svg\" height=\"24px\" viewBox=\"0 -960 960 960\">\n",
              "    <path d=\"M120-120v-720h720v720H120Zm60-500h600v-160H180v160Zm220 220h160v-160H400v160Zm0 220h160v-160H400v160ZM180-400h160v-160H180v160Zm440 0h160v-160H620v160ZM180-180h160v-160H180v160Zm440 0h160v-160H620v160Z\"/>\n",
              "  </svg>\n",
              "    </button>\n",
              "\n",
              "  <style>\n",
              "    .colab-df-container {\n",
              "      display:flex;\n",
              "      gap: 12px;\n",
              "    }\n",
              "\n",
              "    .colab-df-convert {\n",
              "      background-color: #E8F0FE;\n",
              "      border: none;\n",
              "      border-radius: 50%;\n",
              "      cursor: pointer;\n",
              "      display: none;\n",
              "      fill: #1967D2;\n",
              "      height: 32px;\n",
              "      padding: 0 0 0 0;\n",
              "      width: 32px;\n",
              "    }\n",
              "\n",
              "    .colab-df-convert:hover {\n",
              "      background-color: #E2EBFA;\n",
              "      box-shadow: 0px 1px 2px rgba(60, 64, 67, 0.3), 0px 1px 3px 1px rgba(60, 64, 67, 0.15);\n",
              "      fill: #174EA6;\n",
              "    }\n",
              "\n",
              "    .colab-df-buttons div {\n",
              "      margin-bottom: 4px;\n",
              "    }\n",
              "\n",
              "    [theme=dark] .colab-df-convert {\n",
              "      background-color: #3B4455;\n",
              "      fill: #D2E3FC;\n",
              "    }\n",
              "\n",
              "    [theme=dark] .colab-df-convert:hover {\n",
              "      background-color: #434B5C;\n",
              "      box-shadow: 0px 1px 3px 1px rgba(0, 0, 0, 0.15);\n",
              "      filter: drop-shadow(0px 1px 2px rgba(0, 0, 0, 0.3));\n",
              "      fill: #FFFFFF;\n",
              "    }\n",
              "  </style>\n",
              "\n",
              "    <script>\n",
              "      const buttonEl =\n",
              "        document.querySelector('#df-7b05decd-a771-4e4d-b0d7-198a86fec1c6 button.colab-df-convert');\n",
              "      buttonEl.style.display =\n",
              "        google.colab.kernel.accessAllowed ? 'block' : 'none';\n",
              "\n",
              "      async function convertToInteractive(key) {\n",
              "        const element = document.querySelector('#df-7b05decd-a771-4e4d-b0d7-198a86fec1c6');\n",
              "        const dataTable =\n",
              "          await google.colab.kernel.invokeFunction('convertToInteractive',\n",
              "                                                    [key], {});\n",
              "        if (!dataTable) return;\n",
              "\n",
              "        const docLinkHtml = 'Like what you see? Visit the ' +\n",
              "          '<a target=\"_blank\" href=https://colab.research.google.com/notebooks/data_table.ipynb>data table notebook</a>'\n",
              "          + ' to learn more about interactive tables.';\n",
              "        element.innerHTML = '';\n",
              "        dataTable['output_type'] = 'display_data';\n",
              "        await google.colab.output.renderOutput(dataTable, element);\n",
              "        const docLink = document.createElement('div');\n",
              "        docLink.innerHTML = docLinkHtml;\n",
              "        element.appendChild(docLink);\n",
              "      }\n",
              "    </script>\n",
              "  </div>\n",
              "\n",
              "\n",
              "<div id=\"df-896f2f1c-a015-475c-9d82-6371483dddcf\">\n",
              "  <button class=\"colab-df-quickchart\" onclick=\"quickchart('df-896f2f1c-a015-475c-9d82-6371483dddcf')\"\n",
              "            title=\"Suggest charts\"\n",
              "            style=\"display:none;\">\n",
              "\n",
              "<svg xmlns=\"http://www.w3.org/2000/svg\" height=\"24px\"viewBox=\"0 0 24 24\"\n",
              "     width=\"24px\">\n",
              "    <g>\n",
              "        <path d=\"M19 3H5c-1.1 0-2 .9-2 2v14c0 1.1.9 2 2 2h14c1.1 0 2-.9 2-2V5c0-1.1-.9-2-2-2zM9 17H7v-7h2v7zm4 0h-2V7h2v10zm4 0h-2v-4h2v4z\"/>\n",
              "    </g>\n",
              "</svg>\n",
              "  </button>\n",
              "\n",
              "<style>\n",
              "  .colab-df-quickchart {\n",
              "      --bg-color: #E8F0FE;\n",
              "      --fill-color: #1967D2;\n",
              "      --hover-bg-color: #E2EBFA;\n",
              "      --hover-fill-color: #174EA6;\n",
              "      --disabled-fill-color: #AAA;\n",
              "      --disabled-bg-color: #DDD;\n",
              "  }\n",
              "\n",
              "  [theme=dark] .colab-df-quickchart {\n",
              "      --bg-color: #3B4455;\n",
              "      --fill-color: #D2E3FC;\n",
              "      --hover-bg-color: #434B5C;\n",
              "      --hover-fill-color: #FFFFFF;\n",
              "      --disabled-bg-color: #3B4455;\n",
              "      --disabled-fill-color: #666;\n",
              "  }\n",
              "\n",
              "  .colab-df-quickchart {\n",
              "    background-color: var(--bg-color);\n",
              "    border: none;\n",
              "    border-radius: 50%;\n",
              "    cursor: pointer;\n",
              "    display: none;\n",
              "    fill: var(--fill-color);\n",
              "    height: 32px;\n",
              "    padding: 0;\n",
              "    width: 32px;\n",
              "  }\n",
              "\n",
              "  .colab-df-quickchart:hover {\n",
              "    background-color: var(--hover-bg-color);\n",
              "    box-shadow: 0 1px 2px rgba(60, 64, 67, 0.3), 0 1px 3px 1px rgba(60, 64, 67, 0.15);\n",
              "    fill: var(--button-hover-fill-color);\n",
              "  }\n",
              "\n",
              "  .colab-df-quickchart-complete:disabled,\n",
              "  .colab-df-quickchart-complete:disabled:hover {\n",
              "    background-color: var(--disabled-bg-color);\n",
              "    fill: var(--disabled-fill-color);\n",
              "    box-shadow: none;\n",
              "  }\n",
              "\n",
              "  .colab-df-spinner {\n",
              "    border: 2px solid var(--fill-color);\n",
              "    border-color: transparent;\n",
              "    border-bottom-color: var(--fill-color);\n",
              "    animation:\n",
              "      spin 1s steps(1) infinite;\n",
              "  }\n",
              "\n",
              "  @keyframes spin {\n",
              "    0% {\n",
              "      border-color: transparent;\n",
              "      border-bottom-color: var(--fill-color);\n",
              "      border-left-color: var(--fill-color);\n",
              "    }\n",
              "    20% {\n",
              "      border-color: transparent;\n",
              "      border-left-color: var(--fill-color);\n",
              "      border-top-color: var(--fill-color);\n",
              "    }\n",
              "    30% {\n",
              "      border-color: transparent;\n",
              "      border-left-color: var(--fill-color);\n",
              "      border-top-color: var(--fill-color);\n",
              "      border-right-color: var(--fill-color);\n",
              "    }\n",
              "    40% {\n",
              "      border-color: transparent;\n",
              "      border-right-color: var(--fill-color);\n",
              "      border-top-color: var(--fill-color);\n",
              "    }\n",
              "    60% {\n",
              "      border-color: transparent;\n",
              "      border-right-color: var(--fill-color);\n",
              "    }\n",
              "    80% {\n",
              "      border-color: transparent;\n",
              "      border-right-color: var(--fill-color);\n",
              "      border-bottom-color: var(--fill-color);\n",
              "    }\n",
              "    90% {\n",
              "      border-color: transparent;\n",
              "      border-bottom-color: var(--fill-color);\n",
              "    }\n",
              "  }\n",
              "</style>\n",
              "\n",
              "  <script>\n",
              "    async function quickchart(key) {\n",
              "      const quickchartButtonEl =\n",
              "        document.querySelector('#' + key + ' button');\n",
              "      quickchartButtonEl.disabled = true;  // To prevent multiple clicks.\n",
              "      quickchartButtonEl.classList.add('colab-df-spinner');\n",
              "      try {\n",
              "        const charts = await google.colab.kernel.invokeFunction(\n",
              "            'suggestCharts', [key], {});\n",
              "      } catch (error) {\n",
              "        console.error('Error during call to suggestCharts:', error);\n",
              "      }\n",
              "      quickchartButtonEl.classList.remove('colab-df-spinner');\n",
              "      quickchartButtonEl.classList.add('colab-df-quickchart-complete');\n",
              "    }\n",
              "    (() => {\n",
              "      let quickchartButtonEl =\n",
              "        document.querySelector('#df-896f2f1c-a015-475c-9d82-6371483dddcf button');\n",
              "      quickchartButtonEl.style.display =\n",
              "        google.colab.kernel.accessAllowed ? 'block' : 'none';\n",
              "    })();\n",
              "  </script>\n",
              "</div>\n",
              "\n",
              "    </div>\n",
              "  </div>\n"
            ],
            "application/vnd.google.colaboratory.intrinsic+json": {
              "type": "dataframe"
            }
          },
          "metadata": {},
          "execution_count": 30
        }
      ],
      "execution_count": null
    },
    {
      "cell_type": "markdown",
      "source": [
        "## Data visualisation and pre-processing\n",
        "\n",
        "First thing to do is to enumerate the diagnosis column such that M = 1, B = 0. Then, I set the ID column to be the index of the dataframe. Afterall, the ID column will not be used for machine learning"
      ],
      "metadata": {
        "_uuid": "24c05ec20cf1358ff6fda1a37e338f020017caf8",
        "_cell_guid": "dd03fdb7-3144-4150-92de-a3f2132f233d",
        "id": "LTJMSXg1GuZt"
      }
    },
    {
      "cell_type": "code",
      "source": [
        "data['diagnosis'] = data['diagnosis'].apply(lambda x: '1' if x == 'M' else '0')\n",
        "data = data.set_index('id')\n",
        "del data['Unnamed: 32']"
      ],
      "metadata": {
        "_uuid": "7bea9ce154dbe82c5d29588f2e27f00bfe3fdf1d",
        "_execution_state": "idle",
        "_cell_guid": "8ab2f1c6-b174-4a0a-bf9f-7c94326b3e61",
        "trusted": true,
        "execution": {
          "iopub.status.busy": "2024-12-15T20:53:32.905224Z",
          "iopub.execute_input": "2024-12-15T20:53:32.905823Z",
          "iopub.status.idle": "2024-12-15T20:53:32.915236Z",
          "shell.execute_reply.started": "2024-12-15T20:53:32.905763Z",
          "shell.execute_reply": "2024-12-15T20:53:32.9138Z"
        },
        "id": "93QjAU46GuZt"
      },
      "outputs": [],
      "execution_count": null
    },
    {
      "cell_type": "markdown",
      "source": [
        "Let's take a look at the number of Benign and Maglinant cases from the dataset. From the output shown below, majority of the cases are benign (0)."
      ],
      "metadata": {
        "_uuid": "81ac236c6c3c0e8206956433426a02779479c094",
        "_cell_guid": "14412b26-d247-41ee-880f-f361a88e4110",
        "id": "IA9KjNRCGuZt"
      }
    },
    {
      "cell_type": "code",
      "source": [
        "print(data.groupby('diagnosis').size())"
      ],
      "metadata": {
        "_uuid": "1ec0c60db5f383231016f03dd8e8ff362b08dbc6",
        "_execution_state": "idle",
        "_cell_guid": "f5936456-74bf-4c42-824f-1973566313c3",
        "trusted": true,
        "execution": {
          "iopub.status.busy": "2024-12-15T20:53:32.917088Z",
          "iopub.execute_input": "2024-12-15T20:53:32.917603Z",
          "iopub.status.idle": "2024-12-15T20:53:32.933793Z",
          "shell.execute_reply.started": "2024-12-15T20:53:32.91756Z",
          "shell.execute_reply": "2024-12-15T20:53:32.931698Z"
        },
        "id": "7Bpce9mIGuZt",
        "outputId": "b04201ba-67eb-4ab8-cecf-674718cce7da",
        "colab": {
          "base_uri": "https://localhost:8080/"
        }
      },
      "outputs": [
        {
          "output_type": "stream",
          "name": "stdout",
          "text": [
            "diagnosis\n",
            "0    357\n",
            "1    212\n",
            "dtype: int64\n"
          ]
        }
      ],
      "execution_count": null
    },
    {
      "cell_type": "markdown",
      "source": [
        "Next, we visualise the data using density plots to get a sense of the data distribution. From the outputs below, you can see the data shows a general gaussian distribution."
      ],
      "metadata": {
        "_uuid": "6baf17aab6d5183b80e7f3a9aadaca3dded6c3b6",
        "_cell_guid": "3c027c06-7285-4bd4-b2c4-ad21e1e293da",
        "id": "qb8y_MT0GuZt"
      }
    },
    {
      "cell_type": "code",
      "source": [
        "from google.colab import drive\n",
        "drive.mount('/content/drive')"
      ],
      "metadata": {
        "id": "dKr6V_tVgePr",
        "colab": {
          "base_uri": "https://localhost:8080/"
        },
        "outputId": "d27040e5-3043-4f5f-aefd-e5903b0c2f55"
      },
      "execution_count": null,
      "outputs": [
        {
          "output_type": "stream",
          "name": "stdout",
          "text": [
            "Drive already mounted at /content/drive; to attempt to forcibly remount, call drive.mount(\"/content/drive\", force_remount=True).\n"
          ]
        }
      ]
    },
    {
      "cell_type": "markdown",
      "source": [
        "It is good to check the correlations between the attributes. From the output graph below, The red around\n",
        "the diagonal suggests that attributes are correlated with each other. The yellow and green patches suggest some moderate correlation and the blue boxes show negative correlations."
      ],
      "metadata": {
        "_uuid": "61fd93395d08de8251226f954320b8cbf4c02871",
        "_cell_guid": "8b3bc827-7651-4be4-800a-e16727af83bc",
        "id": "kVwZLO9TGuZu"
      }
    },
    {
      "cell_type": "code",
      "source": [
        "from matplotlib import pyplot as plt\n",
        "import matplotlib as mpl\n",
        "\n",
        "fig = plt.figure()\n",
        "ax1 = fig.add_subplot(111)\n",
        "\n",
        "cmap = mpl.colormaps['jet']\n",
        "\n",
        "cax = ax1.imshow(data.corr(), interpolation=\"none\", cmap=cmap)\n",
        "\n",
        "\n",
        "ax1.grid(True)\n",
        "plt.title('Breast Cancer Attributes Correlation')\n",
        "\n",
        "\n",
        "fig.colorbar(cax, ticks=[.75, .8, .85, .90, .95, 1])\n",
        "\n",
        "\n",
        "plt.show()\n"
      ],
      "metadata": {
        "_uuid": "30721fd7c6e1b4bc1b4c711db44a094969a92b1e",
        "_execution_state": "idle",
        "_cell_guid": "7025c069-528a-4f68-902d-6964ccbb2eb5",
        "trusted": true,
        "execution": {
          "iopub.status.busy": "2024-12-15T20:53:36.454576Z",
          "iopub.execute_input": "2024-12-15T20:53:36.455052Z",
          "iopub.status.idle": "2024-12-15T20:53:36.740719Z",
          "shell.execute_reply.started": "2024-12-15T20:53:36.455003Z",
          "shell.execute_reply": "2024-12-15T20:53:36.739641Z"
        },
        "id": "REjJg-PXGuZu",
        "outputId": "4b982639-67f9-4dc4-ceeb-0e03cd372ec7",
        "colab": {
          "base_uri": "https://localhost:8080/",
          "height": 452
        }
      },
      "outputs": [
        {
          "output_type": "display_data",
          "data": {
            "text/plain": [
              "<Figure size 640x480 with 2 Axes>"
            ],
            "image/png": "[encoded data removed]"
          },
          "metadata": {}
        }
      ],
      "execution_count": null
    },
    {
      "cell_type": "markdown",
      "source": [
        "Finally, we'll split the data into predictor variables and target variable, following by breaking them into train and test sets. We will use 20% of the data as test set."
      ],
      "metadata": {
        "_uuid": "dacd3192e8f4b70e41d714beea8c537a1d5faac6",
        "_cell_guid": "80f7e0c1-4e55-4803-bf95-e16e41994a07",
        "id": "iDRMemUXGuZu"
      }
    },
    {
      "cell_type": "code",
      "source": [
        "Y = data['diagnosis'].values\n",
        "X = data.drop('diagnosis', axis=1).values\n",
        "\n",
        "X_train, X_test, Y_train, Y_test = train_test_split (X, Y, test_size = 0.20, random_state=21)"
      ],
      "metadata": {
        "_uuid": "770c88e9d8f8f5f0744046d593942f6d7efe1ec5",
        "_cell_guid": "e5f9262f-40c7-4935-9e72-f9be15e113e1",
        "trusted": true,
        "execution": {
          "iopub.status.busy": "2024-12-15T20:53:36.742403Z",
          "iopub.execute_input": "2024-12-15T20:53:36.742899Z",
          "iopub.status.idle": "2024-12-15T20:53:36.75232Z",
          "shell.execute_reply.started": "2024-12-15T20:53:36.742851Z",
          "shell.execute_reply": "2024-12-15T20:53:36.751066Z"
        },
        "id": "arywmkhvGuZu"
      },
      "outputs": [],
      "execution_count": null
    },
    {
      "cell_type": "markdown",
      "source": [
        "## Baseline algorithm checking\n",
        "\n",
        "From the dataset, we will analysis and build a model to predict if a given set of symptoms lead to breast cancer. This is a binary classification problem, and a few algorithms are appropriate for use. Since we do not know which one will perform the best at the point, we will do a quick test on the few appropriate algorithms with default setting to get an early indication of how each of them perform. We will use 10 fold cross validation for each testing.\n",
        "\n",
        "The following non-linear algorithms will be used, namely: **Classification and Regression Trees (CART)**, **Linear Support Vector Machines (SVM)**, **Gaussian Naive Bayes (NB)** and **k-Nearest Neighbors (KNN)**."
      ],
      "metadata": {
        "_uuid": "e85ea911c9057cda526ed82e742c1fa3daff5746",
        "_cell_guid": "6eb9751e-a4e4-457e-b0e3-728334b80999",
        "id": "bmhQP5gzGuZu"
      }
    },
    {
      "cell_type": "code",
      "source": [
        "models_list = []\n",
        "models_list.append(('CART', DecisionTreeClassifier()))\n",
        "models_list.append(('SVM', SVC()))\n",
        "models_list.append(('NB', GaussianNB()))\n",
        "models_list.append(('KNN', KNeighborsClassifier()))"
      ],
      "metadata": {
        "_uuid": "1b6ac44446c91123c1ceb2bd027e60ab5eb35b9c",
        "_cell_guid": "9d75c60c-5a84-4cf1-abc4-83ccf1a04ea5",
        "trusted": true,
        "execution": {
          "iopub.status.busy": "2024-12-15T20:53:36.753535Z",
          "iopub.execute_input": "2024-12-15T20:53:36.754116Z",
          "iopub.status.idle": "2024-12-15T20:53:36.767345Z",
          "shell.execute_reply.started": "2024-12-15T20:53:36.753948Z",
          "shell.execute_reply": "2024-12-15T20:53:36.766053Z"
        },
        "id": "0Y_2sF6TGuZu"
      },
      "outputs": [],
      "execution_count": null
    },
    {
      "cell_type": "code",
      "source": [
        "from sklearn.model_selection import KFold, cross_val_score\n",
        "import time\n",
        "\n",
        "num_folds = 10\n",
        "results = []\n",
        "names = []\n",
        "\n",
        "for name, model in models_list:\n",
        "\n",
        "    kfold = KFold(n_splits=num_folds, shuffle=True, random_state=123)\n",
        "    start = time.time()\n",
        "\n",
        "    cv_results = cross_val_score(model, X_train, Y_train, cv=kfold, scoring='accuracy')\n",
        "\n",
        "    end = time.time()\n",
        "    results.append(cv_results)\n",
        "    names.append(name)\n",
        "\n",
        "    print(\"%s: %f (%f) (run time: %f)\" % (name, cv_results.mean(), cv_results.std(), end - start))\n"
      ],
      "metadata": {
        "_uuid": "971d250d87e73a7f30cc137e4625c30d8c5331c8",
        "_cell_guid": "b3919d00-b7aa-4d62-b438-ee822ed6e50e",
        "trusted": true,
        "execution": {
          "iopub.status.busy": "2024-12-15T20:53:36.770615Z",
          "iopub.execute_input": "2024-12-15T20:53:36.771079Z",
          "iopub.status.idle": "2024-12-15T20:53:37.017226Z",
          "shell.execute_reply.started": "2024-12-15T20:53:36.771043Z",
          "shell.execute_reply": "2024-12-15T20:53:37.016089Z"
        },
        "id": "estIU3KOGuZu",
        "outputId": "a4af454a-982d-44e4-dcd4-471ea15877d8",
        "colab": {
          "base_uri": "https://localhost:8080/"
        }
      },
      "outputs": [
        {
          "output_type": "stream",
          "name": "stdout",
          "text": [
            "CART: 0.929614 (0.032375) (run time: 0.285081)\n",
            "SVM: 0.916329 (0.035471) (run time: 0.109643)\n",
            "NB: 0.940531 (0.031603) (run time: 0.045901)\n",
            "KNN: 0.922947 (0.038805) (run time: 0.061959)\n"
          ]
        }
      ],
      "execution_count": null
    },
    {
      "cell_type": "markdown",
      "source": [],
      "metadata": {
        "id": "Gt8yRojOGuZu"
      }
    },
    {
      "cell_type": "code",
      "source": [
        "fig = plt.figure()\n",
        "fig.suptitle('Performance Comparison')\n",
        "ax = fig.add_subplot(111)\n",
        "plt.boxplot(results)\n",
        "ax.set_xticklabels(names)\n",
        "plt.show()"
      ],
      "metadata": {
        "_uuid": "cc6a875d67a7d600f983e565332843fa98254f9e",
        "_cell_guid": "04fa9fd2-636c-4f94-94b8-1c9230c85a5a",
        "trusted": true,
        "execution": {
          "iopub.status.busy": "2024-12-15T20:53:37.018862Z",
          "iopub.execute_input": "2024-12-15T20:53:37.01932Z",
          "iopub.status.idle": "2024-12-15T20:53:37.452345Z",
          "shell.execute_reply.started": "2024-12-15T20:53:37.01927Z",
          "shell.execute_reply": "2024-12-15T20:53:37.451118Z"
        },
        "id": "prNuskxoGuZu",
        "outputId": "d953e3f3-dae1-4567-ed6b-18653836a989",
        "colab": {
          "base_uri": "https://localhost:8080/",
          "height": 478
        }
      },
      "outputs": [
        {
          "output_type": "display_data",
          "data": {
            "text/plain": [
              "<Figure size 640x480 with 1 Axes>"
            ],
            "image/png": "[encoded data removed]"
          },
          "metadata": {}
        }
      ],
      "execution_count": null
    },
    {
      "cell_type": "markdown",
      "source": [
        "From the initial run, it looks like GaussianNB, KNN and CART performed the best given the dataset (all above 92% mean accuracy). Support Vector Machine has a surprisingly bad performance here. However, if we standardise the input dataset, it's performance should improve.  "
      ],
      "metadata": {
        "_uuid": "894f687f2f616f40217321a2690ff36d0789ca50",
        "_cell_guid": "c5f330ec-666a-4ee6-85c8-bd06389005d9",
        "id": "vLXr0iKtGuZu"
      }
    },
    {
      "cell_type": "markdown",
      "source": [
        "## Evaluation of algorithm on Standardised Data\n",
        "\n",
        "The performance of the few machine learning algorithm could be improved if a standardised dataset is being used. The improvement is likely for all the models. I will use pipelines that standardize the data and build the model for each fold in the cross-validation test harness. That way we can get a fair estimation of how each model with standardized data might perform on unseen data."
      ],
      "metadata": {
        "_uuid": "c2e22d7495f32f54e7a6f9971503b38a71a210f4",
        "_cell_guid": "71509d84-7641-4321-a7d2-60f77deb1e4a",
        "id": "a7jsf6NuGuZv"
      }
    },
    {
      "cell_type": "code",
      "source": [
        "import time\n",
        "import warnings\n",
        "from sklearn.model_selection import KFold, cross_val_score\n",
        "from sklearn.preprocessing import StandardScaler\n",
        "from sklearn.tree import DecisionTreeClassifier\n",
        "from sklearn.svm import SVC\n",
        "from sklearn.naive_bayes import GaussianNB\n",
        "from sklearn.neighbors import KNeighborsClassifier\n",
        "from sklearn.pipeline import Pipeline\n",
        "import numpy as np\n",
        "\n",
        "num_folds = 10\n",
        "\n",
        "pipelines = []\n",
        "pipelines.append(('ScaledCART', Pipeline([('Scaler', StandardScaler()), ('CART', DecisionTreeClassifier())])))\n",
        "pipelines.append(('ScaledSVM', Pipeline([('Scaler', StandardScaler()), ('SVM', SVC())])))\n",
        "pipelines.append(('ScaledNB', Pipeline([('Scaler', StandardScaler()), ('NB', GaussianNB())])))\n",
        "pipelines.append(('ScaledKNN', Pipeline([('Scaler', StandardScaler()), ('KNN', KNeighborsClassifier())])))\n",
        "\n",
        "results = []\n",
        "names = []\n",
        "\n",
        "with warnings.catch_warnings():\n",
        "    warnings.simplefilter(\"ignore\")\n",
        "\n",
        "    kfold = KFold(n_splits=num_folds, shuffle=True, random_state=123)\n",
        "\n",
        "    for name, model in pipelines:\n",
        "        start = time.time()\n",
        "\n",
        "        cv_results = cross_val_score(model, X_train, Y_train, cv=kfold, scoring='accuracy')\n",
        "\n",
        "        end = time.time()\n",
        "\n",
        "        results.append(cv_results)\n",
        "        names.append(name)\n",
        "\n",
        "        print(\"%s: %f (%f) (run time: %f)\" % (name, cv_results.mean(), cv_results.std(), end-start))\n"
      ],
      "metadata": {
        "_uuid": "2c785e3b14836708690209ac1249220ea98c2592",
        "_cell_guid": "d8b48313-697e-46cd-8a24-c862912e77cd",
        "trusted": true,
        "execution": {
          "iopub.status.busy": "2024-12-15T20:53:37.45418Z",
          "iopub.execute_input": "2024-12-15T20:53:37.454509Z",
          "iopub.status.idle": "2024-12-15T20:53:37.741964Z",
          "shell.execute_reply.started": "2024-12-15T20:53:37.454479Z",
          "shell.execute_reply": "2024-12-15T20:53:37.740543Z"
        },
        "id": "OFltIxIVGuZv",
        "outputId": "7fce563a-2e2b-408f-c54e-6ab846dc4b32",
        "colab": {
          "base_uri": "https://localhost:8080/"
        }
      },
      "outputs": [
        {
          "output_type": "stream",
          "name": "stdout",
          "text": [
            "ScaledCART: 0.933961 (0.034062) (run time: 0.501590)\n",
            "ScaledSVM: 0.966957 (0.029910) (run time: 0.472014)\n",
            "ScaledNB: 0.929565 (0.038096) (run time: 0.099804)\n",
            "ScaledKNN: 0.949469 (0.027808) (run time: 0.235237)\n"
          ]
        }
      ],
      "execution_count": null
    },
    {
      "cell_type": "code",
      "source": [
        "fig = plt.figure()\n",
        "fig.suptitle('Performance Comparison')\n",
        "ax = fig.add_subplot(111)\n",
        "plt.boxplot(results)\n",
        "ax.set_xticklabels(names)\n",
        "plt.show()"
      ],
      "metadata": {
        "_uuid": "09c717fbeeaf8622c7328733812f93f0f1183a43",
        "_cell_guid": "5595bdce-4044-4a29-93ba-3003efdbc4fe",
        "trusted": true,
        "execution": {
          "iopub.status.busy": "2024-12-15T20:53:37.743469Z",
          "iopub.execute_input": "2024-12-15T20:53:37.743973Z",
          "iopub.status.idle": "2024-12-15T20:53:37.977483Z",
          "shell.execute_reply.started": "2024-12-15T20:53:37.743924Z",
          "shell.execute_reply": "2024-12-15T20:53:37.976368Z"
        },
        "id": "sIt0hZuhGuZv",
        "outputId": "7a174c03-d6cf-4dd9-83e3-623bbbf24932",
        "colab": {
          "base_uri": "https://localhost:8080/",
          "height": 478
        }
      },
      "outputs": [
        {
          "output_type": "display_data",
          "data": {
            "text/plain": [
              "<Figure size 640x480 with 1 Axes>"
            ],
            "image/png": "[encoded data removed]"
          },
          "metadata": {}
        }
      ],
      "execution_count": null
    },
    {
      "cell_type": "markdown",
      "source": [
        "Notice the drastic improvement of SVM after using scaled data.\n",
        "\n",
        "Next, we'll fine tune the performance of SVM by tuning the algorithm\n",
        "\n",
        "## Algorithm Tuning - Tuning SVM\n",
        "\n",
        "We will focus on SVM for the algorithm tuning. We can tune **two** key parameter of the SVM algorithm - the value of C and the type of kernel. The default C for SVM is 1.0 and the kernel is Radial Basis Function (RBF). We will use the grid search method using 10-fold cross-validation with a standardized copy of the sample training dataset. We will try over a combination of C values and the following kernel types 'linear', 'poly', 'rbf' and 'sigmoid"
      ],
      "metadata": {
        "_uuid": "6f63b31910e59133a0d05d2fa88f93b14092cdd1",
        "_cell_guid": "10287c3c-59a8-492a-aead-13bef7ba71d1",
        "id": "H6SyOs68GuZv"
      }
    },
    {
      "cell_type": "code",
      "source": [
        "print(X_train.shape)\n",
        "print(Y_train.shape)\n",
        "\n",
        "scaler = StandardScaler().fit(X_train)\n",
        "rescaledX = scaler.transform(X_train)\n",
        "\n",
        "c_values = [0.1, 0.3, 0.5, 0.7, 0.9, 1.0, 1.3, 1.5, 1.7, 2.0]\n",
        "kernel_values = ['linear', 'poly', 'rbf', 'sigmoid']\n",
        "param_grid = dict(C=c_values, kernel=kernel_values)\n",
        "\n",
        "model = SVC()\n",
        "\n",
        "kfold = KFold(n_splits=num_folds, shuffle=True, random_state=21)\n",
        "\n",
        "grid = GridSearchCV(estimator=model, param_grid=param_grid, scoring='accuracy', cv=kfold)\n",
        "\n",
        "grid_result = grid.fit(rescaledX, Y_train)\n",
        "\n",
        "print(\"Best: %f using %s\" % (grid_result.best_score_, grid_result.best_params_))\n",
        "means = grid_result.cv_results_['mean_test_score']\n",
        "stds = grid_result.cv_results_['std_test_score']\n",
        "params = grid_result.cv_results_['params']\n",
        "for mean, stdev, param in zip(means, stds, params):\n",
        "    print(\"%f (%f) with: %r\" % (mean, stdev, param))\n"
      ],
      "metadata": {
        "_uuid": "68186b006294aa46d3cc6f9858445fc009c3e7c0",
        "_cell_guid": "57e17e0e-7eb1-493b-9e12-da601aeaca30",
        "trusted": true,
        "execution": {
          "iopub.status.busy": "2024-12-15T20:53:37.9789Z",
          "iopub.execute_input": "2024-12-15T20:53:37.979196Z",
          "iopub.status.idle": "2024-12-15T20:53:40.142962Z",
          "shell.execute_reply.started": "2024-12-15T20:53:37.979159Z",
          "shell.execute_reply": "2024-12-15T20:53:40.141751Z"
        },
        "id": "PTm-gRFPGuZv",
        "outputId": "f3ac0807-08ca-4e96-b2cd-dc67ed4330fd",
        "colab": {
          "base_uri": "https://localhost:8080/"
        }
      },
      "outputs": [
        {
          "output_type": "stream",
          "name": "stdout",
          "text": [
            "(455, 30)\n",
            "(455,)\n",
            "Best: 0.969130 using {'C': 1.5, 'kernel': 'rbf'}\n",
            "0.966908 (0.022890) with: {'C': 0.1, 'kernel': 'linear'}\n",
            "0.828502 (0.050827) with: {'C': 0.1, 'kernel': 'poly'}\n",
            "0.942850 (0.032841) with: {'C': 0.1, 'kernel': 'rbf'}\n",
            "0.953768 (0.028890) with: {'C': 0.1, 'kernel': 'sigmoid'}\n",
            "0.964686 (0.017960) with: {'C': 0.3, 'kernel': 'linear'}\n",
            "0.865845 (0.032091) with: {'C': 0.3, 'kernel': 'poly'}\n",
            "0.953816 (0.026855) with: {'C': 0.3, 'kernel': 'rbf'}\n",
            "0.956039 (0.031363) with: {'C': 0.3, 'kernel': 'sigmoid'}\n",
            "0.962512 (0.017495) with: {'C': 0.5, 'kernel': 'linear'}\n",
            "0.878986 (0.030482) with: {'C': 0.5, 'kernel': 'poly'}\n",
            "0.962560 (0.026103) with: {'C': 0.5, 'kernel': 'rbf'}\n",
            "0.953816 (0.033601) with: {'C': 0.5, 'kernel': 'sigmoid'}\n",
            "0.964686 (0.017960) with: {'C': 0.7, 'kernel': 'linear'}\n",
            "0.890048 (0.031450) with: {'C': 0.7, 'kernel': 'poly'}\n",
            "0.962609 (0.027882) with: {'C': 0.7, 'kernel': 'rbf'}\n",
            "0.951546 (0.036945) with: {'C': 0.7, 'kernel': 'sigmoid'}\n",
            "0.964734 (0.017877) with: {'C': 0.9, 'kernel': 'linear'}\n",
            "0.892271 (0.033383) with: {'C': 0.9, 'kernel': 'poly'}\n",
            "0.962609 (0.026050) with: {'C': 0.9, 'kernel': 'rbf'}\n",
            "0.953768 (0.030621) with: {'C': 0.9, 'kernel': 'sigmoid'}\n",
            "0.964734 (0.017877) with: {'C': 1.0, 'kernel': 'linear'}\n",
            "0.894444 (0.032531) with: {'C': 1.0, 'kernel': 'poly'}\n",
            "0.962560 (0.026103) with: {'C': 1.0, 'kernel': 'rbf'}\n",
            "0.951594 (0.031116) with: {'C': 1.0, 'kernel': 'sigmoid'}\n",
            "0.958116 (0.015718) with: {'C': 1.3, 'kernel': 'linear'}\n",
            "0.894444 (0.035317) with: {'C': 1.3, 'kernel': 'poly'}\n",
            "0.966908 (0.020517) with: {'C': 1.3, 'kernel': 'rbf'}\n",
            "0.947198 (0.026729) with: {'C': 1.3, 'kernel': 'sigmoid'}\n",
            "0.958164 (0.015644) with: {'C': 1.5, 'kernel': 'linear'}\n",
            "0.898841 (0.034460) with: {'C': 1.5, 'kernel': 'poly'}\n",
            "0.969130 (0.017781) with: {'C': 1.5, 'kernel': 'rbf'}\n",
            "0.940628 (0.026319) with: {'C': 1.5, 'kernel': 'sigmoid'}\n",
            "0.960338 (0.016737) with: {'C': 1.7, 'kernel': 'linear'}\n",
            "0.898841 (0.034460) with: {'C': 1.7, 'kernel': 'poly'}\n",
            "0.969130 (0.017781) with: {'C': 1.7, 'kernel': 'rbf'}\n",
            "0.940628 (0.026319) with: {'C': 1.7, 'kernel': 'sigmoid'}\n",
            "0.958164 (0.015644) with: {'C': 2.0, 'kernel': 'linear'}\n",
            "0.907681 (0.030826) with: {'C': 2.0, 'kernel': 'poly'}\n",
            "0.969130 (0.017781) with: {'C': 2.0, 'kernel': 'rbf'}\n",
            "0.936232 (0.027001) with: {'C': 2.0, 'kernel': 'sigmoid'}\n"
          ]
        }
      ],
      "execution_count": null
    },
    {
      "cell_type": "markdown",
      "source": [
        "We can see the most accurate configuration was SVM with an **RBF** kernel and **C=1.5**, with the accuracy of **96.92%**."
      ],
      "metadata": {
        "_uuid": "8a4634f59a3d171ef5d48a67d7961a7ffd8134ba",
        "_cell_guid": "094e29a4-0b77-4578-995d-7aa600e4fcb8",
        "id": "cIZLQdjPGuZv"
      }
    },
    {
      "cell_type": "markdown",
      "source": [
        "## Application of SVC on dataset\n",
        "\n",
        "Let's fit the SVM to the dataset and see how it performs given the test data."
      ],
      "metadata": {
        "_uuid": "8975c42f962cc0bde2f8ed8e763b021110e34b8f",
        "_cell_guid": "b59e3fd3-9b58-4ec9-8129-bd43dfbecd13",
        "id": "HlI8rtP2GuZv"
      }
    },
    {
      "cell_type": "code",
      "source": [
        "with warnings.catch_warnings():\n",
        "    warnings.simplefilter(\"ignore\")\n",
        "    scaler = StandardScaler().fit(X_train)\n",
        "X_train_scaled = scaler.transform(X_train)\n",
        "model = SVC(C=2.0, kernel='rbf')\n",
        "start = time.time()\n",
        "model.fit(X_train_scaled, Y_train)\n",
        "end = time.time()\n",
        "print( \"Run Time: %f\" % (end-start))"
      ],
      "metadata": {
        "_uuid": "56cdb1896c4c52b05e655485efbc433a770cebd6",
        "_cell_guid": "d22dbf43-8e52-45be-90f1-e93239d624e2",
        "trusted": true,
        "execution": {
          "iopub.status.busy": "2024-12-15T20:53:40.144223Z",
          "iopub.execute_input": "2024-12-15T20:53:40.144705Z",
          "iopub.status.idle": "2024-12-15T20:53:40.161137Z",
          "shell.execute_reply.started": "2024-12-15T20:53:40.144632Z",
          "shell.execute_reply": "2024-12-15T20:53:40.15963Z"
        },
        "id": "rWPYZy7sGuZv",
        "outputId": "3dd28a50-f480-4c85-9c56-cbaacc2931d7",
        "colab": {
          "base_uri": "https://localhost:8080/"
        }
      },
      "outputs": [
        {
          "output_type": "stream",
          "name": "stdout",
          "text": [
            "Run Time: 0.007429\n"
          ]
        }
      ],
      "execution_count": null
    },
    {
      "cell_type": "code",
      "source": [
        "with warnings.catch_warnings():\n",
        "    warnings.simplefilter(\"ignore\")\n",
        "    X_test_scaled = scaler.transform(X_test)\n",
        "predictions = model.predict(X_test_scaled)"
      ],
      "metadata": {
        "_uuid": "7ee346d6b8f2a86c8b51b8237dceed178737ca4c",
        "_cell_guid": "062dac6f-e9dd-45f3-bbce-ef55d921b43f",
        "trusted": true,
        "execution": {
          "iopub.status.busy": "2024-12-15T20:53:40.162909Z",
          "iopub.execute_input": "2024-12-15T20:53:40.163236Z",
          "iopub.status.idle": "2024-12-15T20:53:40.171013Z",
          "shell.execute_reply.started": "2024-12-15T20:53:40.163206Z",
          "shell.execute_reply": "2024-12-15T20:53:40.169929Z"
        },
        "id": "0BpAPkAeGuZv"
      },
      "outputs": [],
      "execution_count": null
    },
    {
      "cell_type": "code",
      "source": [
        "print(\"Accuracy score %f\" % accuracy_score(Y_test, predictions))\n",
        "print(classification_report(Y_test, predictions))"
      ],
      "metadata": {
        "_uuid": "fafb1fdc0bd04148e85c9e069aff39c78e06ddc8",
        "_cell_guid": "334688fe-9900-4872-a0f9-ab2758964d89",
        "trusted": true,
        "execution": {
          "iopub.status.busy": "2024-12-15T20:53:40.172396Z",
          "iopub.execute_input": "2024-12-15T20:53:40.173542Z",
          "iopub.status.idle": "2024-12-15T20:53:40.198924Z",
          "shell.execute_reply.started": "2024-12-15T20:53:40.17348Z",
          "shell.execute_reply": "2024-12-15T20:53:40.197621Z"
        },
        "id": "6OiR_aTXGuZv",
        "outputId": "9b6e9345-716a-45a2-9a11-b30956d937c5",
        "colab": {
          "base_uri": "https://localhost:8080/"
        }
      },
      "outputs": [
        {
          "output_type": "stream",
          "name": "stdout",
          "text": [
            "Accuracy score 0.991228\n",
            "              precision    recall  f1-score   support\n",
            "\n",
            "           0       1.00      0.99      0.99        75\n",
            "           1       0.97      1.00      0.99        39\n",
            "\n",
            "    accuracy                           0.99       114\n",
            "   macro avg       0.99      0.99      0.99       114\n",
            "weighted avg       0.99      0.99      0.99       114\n",
            "\n"
          ]
        }
      ],
      "execution_count": null
    },
    {
      "cell_type": "code",
      "source": [
        "print(confusion_matrix(Y_test, predictions))"
      ],
      "metadata": {
        "_uuid": "73b0c7c8bf76432b2d98b8978e031397d0055c55",
        "_cell_guid": "158e4ad0-e901-4769-bc61-b9cdc310813f",
        "trusted": true,
        "execution": {
          "iopub.status.busy": "2024-12-15T20:53:40.200367Z",
          "iopub.execute_input": "2024-12-15T20:53:40.200818Z",
          "iopub.status.idle": "2024-12-15T20:53:40.211815Z",
          "shell.execute_reply.started": "2024-12-15T20:53:40.200767Z",
          "shell.execute_reply": "2024-12-15T20:53:40.210571Z"
        },
        "id": "rtT-x18tGuZv",
        "outputId": "743ca2a7-1faf-4e71-b559-1b72e0d2ca5b",
        "colab": {
          "base_uri": "https://localhost:8080/"
        }
      },
      "outputs": [
        {
          "output_type": "stream",
          "name": "stdout",
          "text": [
            "[[74  1]\n",
            " [ 0 39]]\n"
          ]
        }
      ],
      "execution_count": null
    },
    {
      "cell_type": "markdown",
      "source": [
        "We can see that we achieve an accuracy of 99.1% on the held-out test dataset. From the confusion matrix, there is only 1 case of mis-classification. The performance of this algorithm is expected to be high given the symptoms for breast cancer should exchibit certain clear patterns."
      ],
      "metadata": {
        "_uuid": "e4d054eadfabe28710fe9eb5e49207c1ae2e6969",
        "_cell_guid": "93e258f1-8725-4f6b-9ee5-7b360cc77952",
        "id": "JLmYDh2lGuZv"
      }
    }
  ]
}