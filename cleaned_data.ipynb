{
  "nbformat": 4,
  "nbformat_minor": 0,
  "metadata": {
    "colab": {
      "provenance": []
    },
    "kernelspec": {
      "name": "python3",
      "display_name": "Python 3"
    },
    "language_info": {
      "name": "python"
    }
  },
  "cells": [
    {
      "cell_type": "code",
      "execution_count": 9,
      "metadata": {
        "colab": {
          "base_uri": "https://localhost:8080/"
        },
        "id": "shPdblnzaGBx",
        "outputId": "622dab26-8dd0-4607-d9ae-10b67be69af4"
      },
      "outputs": [
        {
          "output_type": "stream",
          "name": "stdout",
          "text": [
            "[INFO] Nettoyage des données pour TunisiaNet...\n",
            "[INFO] Nettoyage terminé pour TunisiaNet.\n",
            "[INFO] Nettoyage des données pour MyTek...\n",
            "[INFO] Nettoyage terminé pour MyTek.\n",
            "[TunisiaNet Data Sample]\n",
            "                                               title     price  \\\n",
            "0  pc portable lenovo ideapad 1 15igl7 / n4020 / ...  699000.0   \n",
            "1       pc portable dell / n4000 / 4 go / 500 / gris  699000.0   \n",
            "2  pc portable lenovo ideapad 1 15igl7 / n4020 / ...  709000.0   \n",
            "3  pc portable lenovo v15 g2 ijl / n4500 / 8 go /...  719000.0   \n",
            "4  pc portable lenovo ideapad 1 15igl7 / n4020 / ...  719000.0   \n",
            "\n",
            "          reference  image_url  \n",
            "0      [82V700KFFE]        NaN  \n",
            "1     [EL-DELL-210]        NaN  \n",
            "2  [82V700KFFE-SAC]        NaN  \n",
            "3      [82QY00PEFE]        NaN  \n",
            "4   [82V700JUFG-2Y]        NaN  \n",
            "[MyTek Data Sample]\n",
            "                                               title     price  \\\n",
            "0  ecran asus zenscreen lcd mb165b 15.6'' wxga 60 hz  429000.0   \n",
            "1  ecran mobile lenovo thinkvision m15 15.6'' ful...  509000.0   \n",
            "2  pc portable lenovo ideapad 1 15igl7 intel cele...  695000.0   \n",
            "3  pc portable lenovo v15 g2 ijl intel celeron n4...  719000.0   \n",
            "4  pc portable lenovo v15 g4 amn amd athlon 8go 2...  725000.0   \n",
            "\n",
            "            reference  description  \n",
            "0   [90LM0703-B01170]          NaN  \n",
            "1        [62CAUAT1WL]          NaN  \n",
            "2        [82V700D4FE]          NaN  \n",
            "3        [82QY00PEFE]          NaN  \n",
            "4        [82YU0044FE]          NaN  \n",
            "[INFO] Données nettoyées exportées avec succès.\n"
          ]
        }
      ],
      "source": [
        "import pandas as pd\n",
        "\n",
        "tunisia_net_data = pd.read_csv(\"laptop.csv\")\n",
        "mytek_data = pd.read_csv(\"My_Tek.csv\")\n",
        "tunisia_net_data.drop_duplicates(subset=\"reference\", inplace=True)\n",
        "mytek_data.drop_duplicates(subset=\"reference\", inplace=True)\n",
        "def clean_data(data, site_name):\n",
        "    print(f\"[INFO] Nettoyage des données pour {site_name}...\")\n",
        "    data['price'] = (\n",
        "        data['price']\n",
        "        .str.replace(r'[^\\d.]', '', regex=True)\n",
        "        .astype(float)\n",
        "    )\n",
        "    data['title'] = data['title'].str.lower().str.strip()\n",
        "    data.fillna({\"title\": \"unknown\", \"price\": 0.0, \"reference\": \"N/A\"}, inplace=True)\n",
        "    print(f\"[INFO] Nettoyage terminé pour {site_name}.\")\n",
        "    return data\n",
        "tunisia_net_data = clean_data(tunisia_net_data, \"TunisiaNet\")\n",
        "mytek_data = clean_data(mytek_data, \"MyTek\")\n",
        "print(\"[TunisiaNet Data Sample]\")\n",
        "print(tunisia_net_data.head())\n",
        "print(\"[MyTek Data Sample]\")\n",
        "print(mytek_data.head())\n",
        "tunisia_net_data.to_csv(\"cleaned_tunisia_net.csv\", index=False)\n",
        "mytek_data.to_csv(\"cleaned_mytek.csv\", index=False)\n",
        "print(\"[INFO] Données nettoyées exportées avec succès.\")\n"
      ]
    }
  ]
}